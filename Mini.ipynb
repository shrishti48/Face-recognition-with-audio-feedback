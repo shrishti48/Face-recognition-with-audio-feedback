{
 "cells": [
  {
   "cell_type": "code",
   "execution_count": 1,
   "id": "c00cb787",
   "metadata": {},
   "outputs": [
    {
     "name": "stdout",
     "output_type": "stream",
     "text": [
      "Requirement already satisfied: dlib in c:\\users\\dell\\.conda\\envs\\env_set\\lib\\site-packages (19.22.0)\n",
      "Note: you may need to restart the kernel to use updated packages.\n"
     ]
    }
   ],
   "source": [
    "pip install dlib \n"
   ]
  },
  {
   "cell_type": "code",
   "execution_count": 2,
   "id": "69d894a5",
   "metadata": {},
   "outputs": [
    {
     "name": "stdout",
     "output_type": "stream",
     "text": [
      "Requirement already satisfied: face_recognition in c:\\users\\dell\\.conda\\envs\\env_set\\lib\\site-packages (1.3.0)\n",
      "Requirement already satisfied: Click>=6.0 in c:\\users\\dell\\.conda\\envs\\env_set\\lib\\site-packages (from face_recognition) (8.0.3)\n",
      "Requirement already satisfied: Pillow in c:\\users\\dell\\.conda\\envs\\env_set\\lib\\site-packages (from face_recognition) (8.4.0)\n",
      "Requirement already satisfied: face-recognition-models>=0.3.0 in c:\\users\\dell\\.conda\\envs\\env_set\\lib\\site-packages (from face_recognition) (0.3.0)\n",
      "Requirement already satisfied: dlib>=19.7 in c:\\users\\dell\\.conda\\envs\\env_set\\lib\\site-packages (from face_recognition) (19.22.0)\n",
      "Requirement already satisfied: numpy in c:\\users\\dell\\appdata\\roaming\\python\\python39\\site-packages (from face_recognition) (1.21.4)\n",
      "Requirement already satisfied: colorama in c:\\users\\dell\\.conda\\envs\\env_set\\lib\\site-packages (from Click>=6.0->face_recognition) (0.4.4)\n",
      "Note: you may need to restart the kernel to use updated packages.\n"
     ]
    }
   ],
   "source": [
    "pip install face_recognition"
   ]
  },
  {
   "cell_type": "code",
   "execution_count": 3,
   "id": "d8029c06",
   "metadata": {},
   "outputs": [],
   "source": [
    "import sys"
   ]
  },
  {
   "cell_type": "code",
   "execution_count": 4,
   "id": "75885230",
   "metadata": {},
   "outputs": [],
   "source": [
    "import cv2 "
   ]
  },
  {
   "cell_type": "code",
   "execution_count": 5,
   "id": "f7c67f7a",
   "metadata": {},
   "outputs": [],
   "source": [
    "import face_recognition"
   ]
  },
  {
   "cell_type": "code",
   "execution_count": 6,
   "id": "7777ab5b",
   "metadata": {},
   "outputs": [],
   "source": [
    "import pickle"
   ]
  },
  {
   "cell_type": "code",
   "execution_count": 7,
   "id": "332e9079",
   "metadata": {},
   "outputs": [
    {
     "name": "stdout",
     "output_type": "stream",
     "text": [
      "enter nameshrishti\n",
      "enter id001\n"
     ]
    }
   ],
   "source": [
    "name=input(\"enter name\")\n",
    "ref_id=input(\"enter id\")"
   ]
  },
  {
   "cell_type": "code",
   "execution_count": 8,
   "id": "84d147df",
   "metadata": {},
   "outputs": [],
   "source": [
    "try:\n",
    "    f=open(\"ref_name.pkl\",\"rb\")\n",
    "\n",
    "    ref_dictt=pickle.load(f)\n",
    "    f.close()\n",
    "except:\n",
    "    ref_dictt={}\n",
    "ref_dictt[ref_id]=name\n",
    "\n",
    "\n",
    "f=open(\"ref_name.pkl\",\"wb\")\n",
    "pickle.dump(ref_dictt,f)\n",
    "f.close()\n",
    "\n",
    "try:\n",
    "    f=open(\"ref_embed.pkl\",\"rb\")\n",
    "\n",
    "    embed_dictt=pickle.load(f)\n",
    "    f.close()\n",
    "except:\n",
    "    embed_dictt={}"
   ]
  },
  {
   "cell_type": "code",
   "execution_count": 2,
   "id": "1ecd890a",
   "metadata": {},
   "outputs": [
    {
     "ename": "NameError",
     "evalue": "name 'cv2' is not defined",
     "output_type": "error",
     "traceback": [
      "\u001b[1;31m---------------------------------------------------------------------------\u001b[0m",
      "\u001b[1;31mNameError\u001b[0m                                 Traceback (most recent call last)",
      "\u001b[1;32m~\\AppData\\Local\\Temp/ipykernel_22248/1269365786.py\u001b[0m in \u001b[0;36m<module>\u001b[1;34m\u001b[0m\n\u001b[0;32m      1\u001b[0m \u001b[1;32mfor\u001b[0m \u001b[0mi\u001b[0m \u001b[1;32min\u001b[0m \u001b[0mrange\u001b[0m\u001b[1;33m(\u001b[0m\u001b[1;36m5\u001b[0m\u001b[1;33m)\u001b[0m\u001b[1;33m:\u001b[0m\u001b[1;33m\u001b[0m\u001b[1;33m\u001b[0m\u001b[0m\n\u001b[1;32m----> 2\u001b[1;33m     \u001b[0mkey\u001b[0m \u001b[1;33m=\u001b[0m \u001b[0mcv2\u001b[0m\u001b[1;33m.\u001b[0m \u001b[0mwaitKey\u001b[0m\u001b[1;33m(\u001b[0m\u001b[1;36m1\u001b[0m\u001b[1;33m)\u001b[0m\u001b[1;33m\u001b[0m\u001b[1;33m\u001b[0m\u001b[0m\n\u001b[0m\u001b[0;32m      3\u001b[0m     \u001b[0mwebcam\u001b[0m \u001b[1;33m=\u001b[0m \u001b[0mcv2\u001b[0m\u001b[1;33m.\u001b[0m\u001b[0mVideoCapture\u001b[0m\u001b[1;33m(\u001b[0m\u001b[1;36m0\u001b[0m\u001b[1;33m)\u001b[0m\u001b[1;33m\u001b[0m\u001b[1;33m\u001b[0m\u001b[0m\n\u001b[0;32m      4\u001b[0m     \u001b[1;32mwhile\u001b[0m \u001b[1;32mTrue\u001b[0m\u001b[1;33m:\u001b[0m\u001b[1;33m\u001b[0m\u001b[1;33m\u001b[0m\u001b[0m\n\u001b[0;32m      5\u001b[0m \u001b[1;33m\u001b[0m\u001b[0m\n",
      "\u001b[1;31mNameError\u001b[0m: name 'cv2' is not defined"
     ]
    }
   ],
   "source": [
    "for i in range(5):\n",
    "    key = cv2. waitKey(1)\n",
    "    webcam = cv2.VideoCapture(0)\n",
    "    while True:\n",
    "       \n",
    "        check, frame = webcam.read()\n",
    "\n",
    "        cv2.imshow(\"Capturing\", frame)\n",
    "        small_frame = cv2.resize(frame, (0, 0), fx=0.25, fy=0.25)\n",
    "        rgb_small_frame = small_frame[:, :, ::-1]\n",
    "  \n",
    "        key = cv2.waitKey(1)\n",
    "\n",
    "        if key == ord('s') : \n",
    "            face_locations = face_recognition.face_locations(rgb_small_frame)\n",
    "            if face_locations != []:\n",
    "                face_encoding = face_recognition.face_encodings(frame)[0]\n",
    "                if ref_id in embed_dictt:\n",
    "                    embed_dictt[ref_id]+=[face_encoding]\n",
    "                else:\n",
    "                    embed_dictt[ref_id]=[face_encoding]\n",
    "                webcam.release()\n",
    "                cv2.waitKey(1)\n",
    "                cv2.destroyAllWindows()     \n",
    "                break\n",
    "        elif key == ord('q'):\n",
    "            print(\"Turning off camera.\")\n",
    "            webcam.release()\n",
    "            print(\"Camera off.\")\n",
    "            print(\"Program ended.\")\n",
    "            cv2.destroyAllWindows()\n",
    "            break"
   ]
  },
  {
   "cell_type": "code",
   "execution_count": null,
   "id": "ced83344",
   "metadata": {},
   "outputs": [],
   "source": [
    "f=open(\"ref_embed.pkl\",\"wb\")\n",
    "pickle.dump(embed_dictt,f)\n",
    "f.close()"
   ]
  },
  {
   "cell_type": "code",
   "execution_count": null,
   "id": "b784aa4d",
   "metadata": {},
   "outputs": [],
   "source": []
  }
 ],
 "metadata": {
  "kernelspec": {
   "display_name": "Python 3 (ipykernel)",
   "language": "python",
   "name": "python3"
  },
  "language_info": {
   "codemirror_mode": {
    "name": "ipython",
    "version": 3
   },
   "file_extension": ".py",
   "mimetype": "text/x-python",
   "name": "python",
   "nbconvert_exporter": "python",
   "pygments_lexer": "ipython3",
   "version": "3.9.7"
  }
 },
 "nbformat": 4,
 "nbformat_minor": 5
}
